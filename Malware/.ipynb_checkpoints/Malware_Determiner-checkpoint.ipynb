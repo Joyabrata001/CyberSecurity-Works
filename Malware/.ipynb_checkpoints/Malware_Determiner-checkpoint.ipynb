{
 "cells": [
  {
   "cell_type": "code",
   "execution_count": 48,
   "id": "f6180ea3-9e90-4e56-842e-ee9567ae3ccc",
   "metadata": {
    "jupyter": {
     "source_hidden": true
    },
    "tags": []
   },
   "outputs": [
    {
     "name": "stdout",
     "output_type": "stream",
     "text": [
      "The shape of the legit dataset is: 41323 samples, 56 features\n",
      "The shape of the malware dataset is: 96724 samples, 56 features\n"
     ]
    }
   ],
   "source": [
    "import pandas as pd\n",
    "\n",
    "malData = pd.read_csv(\"MalwareData.csv\", sep = '|')\n",
    "\n",
    "legit = malData[0: 41323].drop([\"legitimate\"], axis = 1)\n",
    "mal = malData[41323::].drop([\"legitimate\"], axis = 1)\n",
    "\n",
    "print(\"The shape of the legit dataset is: %s samples, %s features\"%(legit.shape[0],legit.shape[1]))\n",
    "print(\"The shape of the malware dataset is: %s samples, %s features\"%(mal.shape[0],mal.shape[1]))"
   ]
  },
  {
   "cell_type": "code",
   "execution_count": 49,
   "id": "71032ce3-1e9e-4f9d-b33b-ce511acc6a3a",
   "metadata": {
    "collapsed": true,
    "jupyter": {
     "outputs_hidden": true
    },
    "tags": []
   },
   "outputs": [
    {
     "name": "stdout",
     "output_type": "stream",
     "text": [
      "Index(['Name', 'md5', 'Machine', 'SizeOfOptionalHeader', 'Characteristics',\n",
      "       'MajorLinkerVersion', 'MinorLinkerVersion', 'SizeOfCode',\n",
      "       'SizeOfInitializedData', 'SizeOfUninitializedData',\n",
      "       'AddressOfEntryPoint', 'BaseOfCode', 'BaseOfData', 'ImageBase',\n",
      "       'SectionAlignment', 'FileAlignment', 'MajorOperatingSystemVersion',\n",
      "       'MinorOperatingSystemVersion', 'MajorImageVersion', 'MinorImageVersion',\n",
      "       'MajorSubsystemVersion', 'MinorSubsystemVersion', 'SizeOfImage',\n",
      "       'SizeOfHeaders', 'CheckSum', 'Subsystem', 'DllCharacteristics',\n",
      "       'SizeOfStackReserve', 'SizeOfStackCommit', 'SizeOfHeapReserve',\n",
      "       'SizeOfHeapCommit', 'LoaderFlags', 'NumberOfRvaAndSizes', 'SectionsNb',\n",
      "       'SectionsMeanEntropy', 'SectionsMinEntropy', 'SectionsMaxEntropy',\n",
      "       'SectionsMeanRawsize', 'SectionsMinRawsize', 'SectionMaxRawsize',\n",
      "       'SectionsMeanVirtualsize', 'SectionsMinVirtualsize',\n",
      "       'SectionMaxVirtualsize', 'ImportsNbDLL', 'ImportsNb',\n",
      "       'ImportsNbOrdinal', 'ExportNb', 'ResourcesNb', 'ResourcesMeanEntropy',\n",
      "       'ResourcesMinEntropy', 'ResourcesMaxEntropy', 'ResourcesMeanSize',\n",
      "       'ResourcesMinSize', 'ResourcesMaxSize', 'LoadConfigurationSize',\n",
      "       'VersionInformationSize', 'legitimate'],\n",
      "      dtype='object')\n"
     ]
    }
   ],
   "source": [
    "print(malData.columns)"
   ]
  },
  {
   "cell_type": "code",
   "execution_count": 16,
   "id": "78af1a3d-bd01-4803-927f-399201e69ed3",
   "metadata": {
    "collapsed": true,
    "jupyter": {
     "outputs_hidden": true,
     "source_hidden": true
    },
    "tags": []
   },
   "outputs": [
    {
     "name": "stdout",
     "output_type": "stream",
     "text": [
      "           Name                               md5  Machine  \\\n",
      "0   memtest.exe  631ea355665f28d4707448e442fbf5b8      332   \n",
      "1       ose.exe  9d10f99a6712e28f8acd5641e3a7ea6b      332   \n",
      "2     setup.exe  4d92f518527353c0db88a70fddcfd390      332   \n",
      "3      DW20.EXE  a41e524f8d45f0074fd07805ff0c9b12      332   \n",
      "4  dwtrig20.exe  c87e561258f2f8650cef999bf643a731      332   \n",
      "\n",
      "   SizeOfOptionalHeader  Characteristics  MajorLinkerVersion  \\\n",
      "0                   224              258                   9   \n",
      "1                   224             3330                   9   \n",
      "2                   224             3330                   9   \n",
      "3                   224              258                   9   \n",
      "4                   224              258                   9   \n",
      "\n",
      "   MinorLinkerVersion  SizeOfCode  SizeOfInitializedData  \\\n",
      "0                   0      361984                 115712   \n",
      "1                   0      130560                  19968   \n",
      "2                   0      517120                 621568   \n",
      "3                   0      585728                 369152   \n",
      "4                   0      294912                 247296   \n",
      "\n",
      "   SizeOfUninitializedData  ...  ResourcesNb  ResourcesMeanEntropy  \\\n",
      "0                        0  ...            4              3.262823   \n",
      "1                        0  ...            2              4.250461   \n",
      "2                        0  ...           11              4.426324   \n",
      "3                        0  ...           10              4.364291   \n",
      "4                        0  ...            2              4.306100   \n",
      "\n",
      "   ResourcesMinEntropy  ResourcesMaxEntropy  ResourcesMeanSize  \\\n",
      "0             2.568844             3.537939        8797.000000   \n",
      "1             3.420744             5.080177         837.000000   \n",
      "2             2.846449             5.271813       31102.272727   \n",
      "3             2.669314             6.400720        1457.000000   \n",
      "4             3.421598             5.190603        1074.500000   \n",
      "\n",
      "   ResourcesMinSize  ResourcesMaxSize  LoadConfigurationSize  \\\n",
      "0               216             18032                      0   \n",
      "1               518              1156                     72   \n",
      "2               104            270376                     72   \n",
      "3                90              4264                     72   \n",
      "4               849              1300                     72   \n",
      "\n",
      "   VersionInformationSize  legitimate  \n",
      "0                      16           1  \n",
      "1                      18           1  \n",
      "2                      18           1  \n",
      "3                      18           1  \n",
      "4                      18           1  \n",
      "\n",
      "[5 rows x 57 columns]\n"
     ]
    }
   ],
   "source": [
    "print(malData.head(5))"
   ]
  },
  {
   "cell_type": "code",
   "execution_count": 50,
   "id": "e5d6e214-b933-45bf-a238-4cdc9cc34a7f",
   "metadata": {
    "collapsed": true,
    "jupyter": {
     "outputs_hidden": true
    },
    "tags": []
   },
   "outputs": [
    {
     "name": "stdout",
     "output_type": "stream",
     "text": [
      "      Name                               md5  Machine  SizeOfOptionalHeader  \\\n",
      "1  ose.exe  9d10f99a6712e28f8acd5641e3a7ea6b      332                   224   \n",
      "\n",
      "   Characteristics  MajorLinkerVersion  MinorLinkerVersion  SizeOfCode  \\\n",
      "1             3330                   9                   0      130560   \n",
      "\n",
      "   SizeOfInitializedData  SizeOfUninitializedData  ...  ExportNb  ResourcesNb  \\\n",
      "1                  19968                        0  ...         0            2   \n",
      "\n",
      "   ResourcesMeanEntropy  ResourcesMinEntropy  ResourcesMaxEntropy  \\\n",
      "1              4.250461             3.420744             5.080177   \n",
      "\n",
      "   ResourcesMeanSize  ResourcesMinSize  ResourcesMaxSize  \\\n",
      "1              837.0               518              1156   \n",
      "\n",
      "   LoadConfigurationSize  VersionInformationSize  \n",
      "1                     72                      18  \n",
      "\n",
      "[1 rows x 56 columns]\n"
     ]
    }
   ],
   "source": [
    "print(legit.take([1]))"
   ]
  },
  {
   "cell_type": "code",
   "execution_count": 51,
   "id": "d5217ec9-3d53-4d50-80c0-8cb5732ef492",
   "metadata": {
    "collapsed": true,
    "jupyter": {
     "outputs_hidden": true
    },
    "tags": []
   },
   "outputs": [
    {
     "name": "stdout",
     "output_type": "stream",
     "text": [
      "                                              Name  \\\n",
      "41324  VirusShare_9bd57c8252948bd2fa651ad372bd4f13   \n",
      "\n",
      "                                    md5  Machine  SizeOfOptionalHeader  \\\n",
      "41324  9bd57c8252948bd2fa651ad372bd4f13      332                   224   \n",
      "\n",
      "       Characteristics  MajorLinkerVersion  MinorLinkerVersion  SizeOfCode  \\\n",
      "41324              271                   6                   0       24064   \n",
      "\n",
      "       SizeOfInitializedData  SizeOfUninitializedData  ...  ExportNb  \\\n",
      "41324                 164864                     1024  ...         0   \n",
      "\n",
      "       ResourcesNb  ResourcesMeanEntropy  ResourcesMinEntropy  \\\n",
      "41324            6              3.199107             1.971335   \n",
      "\n",
      "       ResourcesMaxEntropy  ResourcesMeanSize  ResourcesMinSize  \\\n",
      "41324             5.214816              452.0                34   \n",
      "\n",
      "       ResourcesMaxSize  LoadConfigurationSize  VersionInformationSize  \n",
      "41324               958                      0                      15  \n",
      "\n",
      "[1 rows x 56 columns]\n"
     ]
    }
   ],
   "source": [
    "print(mal.take([1]))"
   ]
  },
  {
   "cell_type": "code",
   "execution_count": 52,
   "id": "8d312071-b8d5-4f9f-ae84-68e2cd6598ba",
   "metadata": {
    "tags": []
   },
   "outputs": [],
   "source": [
    "from sklearn.ensemble import ExtraTreesClassifier  #for optimizing the dataset\n",
    "from sklearn.feature_selection import SelectFromModel  #to improve accuracy\n",
    "from sklearn.model_selection import train_test_split  #to split the data\n",
    "from sklearn.model_selection import cross_validate"
   ]
  },
  {
   "cell_type": "code",
   "execution_count": 40,
   "id": "939b9fa2-9411-49de-8779-fde25264c7df",
   "metadata": {
    "collapsed": true,
    "jupyter": {
     "outputs_hidden": true,
     "source_hidden": true
    },
    "tags": []
   },
   "outputs": [
    {
     "name": "stdout",
     "output_type": "stream",
     "text": [
      "(138047, 54) (138047, 13)\n"
     ]
    },
    {
     "name": "stderr",
     "output_type": "stream",
     "text": [
      "C:\\Users\\joyab\\AppData\\Roaming\\Python\\Python311\\site-packages\\sklearn\\base.py:432: UserWarning: X has feature names, but SelectFromModel was fitted without feature names\n",
      "  warnings.warn(\n"
     ]
    }
   ],
   "source": [
    "data_in = malData.drop(['Name', 'md5', 'legitimate'], axis=1)\n",
    "labels = malData['legitimate'].values\n",
    "extratrees = ExtraTreesClassifier().fit(data_in,labels)\n",
    "select = SelectFromModel(extratrees,prefit=True)\n",
    "data_in_new = select.transform(data_in)\n",
    "print(data_in.shape,data_in_new.shape)"
   ]
  },
  {
   "cell_type": "code",
   "execution_count": 53,
   "id": "0677c96f-ccaf-401b-8362-c17a9866b627",
   "metadata": {
    "tags": []
   },
   "outputs": [
    {
     "name": "stdout",
     "output_type": "stream",
     "text": [
      "1 DllCharacteristics 0.14722983963814051\n",
      "2 Machine 0.10473132530857367\n",
      "3 Characteristics 0.08486199197901811\n",
      "4 Subsystem 0.07347288909125349\n",
      "5 SectionsMaxEntropy 0.06346623619906935\n",
      "6 VersionInformationSize 0.0595969054996743\n",
      "7 ResourcesMinEntropy 0.054438347702828904\n",
      "8 ImageBase 0.05286861761130687\n",
      "9 MajorSubsystemVersion 0.05122258703574621\n",
      "10 ResourcesMaxEntropy 0.043179161738146864\n",
      "11 SizeOfOptionalHeader 0.030081481890446307\n",
      "12 MajorOperatingSystemVersion 0.02750674374766495\n",
      "13 SizeOfStackReserve 0.02646452260790842\n"
     ]
    }
   ],
   "source": [
    "import numpy as np\n",
    "features = data_in_new.shape[1]\n",
    "importances = extratrees.feature_importances_\n",
    "indices = np.argsort(importances)[::-1]\n",
    "\n",
    "for f in range(features):\n",
    "    print(\"%d\"%(f+1),malData.columns[2+indices[f]],importances[indices[f]])"
   ]
  },
  {
   "cell_type": "code",
   "execution_count": 54,
   "id": "25708784-9202-4f98-8af6-7add5dae3e08",
   "metadata": {
    "tags": []
   },
   "outputs": [
    {
     "data": {
      "text/html": [
       "<style>#sk-container-id-2 {color: black;background-color: white;}#sk-container-id-2 pre{padding: 0;}#sk-container-id-2 div.sk-toggleable {background-color: white;}#sk-container-id-2 label.sk-toggleable__label {cursor: pointer;display: block;width: 100%;margin-bottom: 0;padding: 0.3em;box-sizing: border-box;text-align: center;}#sk-container-id-2 label.sk-toggleable__label-arrow:before {content: \"▸\";float: left;margin-right: 0.25em;color: #696969;}#sk-container-id-2 label.sk-toggleable__label-arrow:hover:before {color: black;}#sk-container-id-2 div.sk-estimator:hover label.sk-toggleable__label-arrow:before {color: black;}#sk-container-id-2 div.sk-toggleable__content {max-height: 0;max-width: 0;overflow: hidden;text-align: left;background-color: #f0f8ff;}#sk-container-id-2 div.sk-toggleable__content pre {margin: 0.2em;color: black;border-radius: 0.25em;background-color: #f0f8ff;}#sk-container-id-2 input.sk-toggleable__control:checked~div.sk-toggleable__content {max-height: 200px;max-width: 100%;overflow: auto;}#sk-container-id-2 input.sk-toggleable__control:checked~label.sk-toggleable__label-arrow:before {content: \"▾\";}#sk-container-id-2 div.sk-estimator input.sk-toggleable__control:checked~label.sk-toggleable__label {background-color: #d4ebff;}#sk-container-id-2 div.sk-label input.sk-toggleable__control:checked~label.sk-toggleable__label {background-color: #d4ebff;}#sk-container-id-2 input.sk-hidden--visually {border: 0;clip: rect(1px 1px 1px 1px);clip: rect(1px, 1px, 1px, 1px);height: 1px;margin: -1px;overflow: hidden;padding: 0;position: absolute;width: 1px;}#sk-container-id-2 div.sk-estimator {font-family: monospace;background-color: #f0f8ff;border: 1px dotted black;border-radius: 0.25em;box-sizing: border-box;margin-bottom: 0.5em;}#sk-container-id-2 div.sk-estimator:hover {background-color: #d4ebff;}#sk-container-id-2 div.sk-parallel-item::after {content: \"\";width: 100%;border-bottom: 1px solid gray;flex-grow: 1;}#sk-container-id-2 div.sk-label:hover label.sk-toggleable__label {background-color: #d4ebff;}#sk-container-id-2 div.sk-serial::before {content: \"\";position: absolute;border-left: 1px solid gray;box-sizing: border-box;top: 0;bottom: 0;left: 50%;z-index: 0;}#sk-container-id-2 div.sk-serial {display: flex;flex-direction: column;align-items: center;background-color: white;padding-right: 0.2em;padding-left: 0.2em;position: relative;}#sk-container-id-2 div.sk-item {position: relative;z-index: 1;}#sk-container-id-2 div.sk-parallel {display: flex;align-items: stretch;justify-content: center;background-color: white;position: relative;}#sk-container-id-2 div.sk-item::before, #sk-container-id-2 div.sk-parallel-item::before {content: \"\";position: absolute;border-left: 1px solid gray;box-sizing: border-box;top: 0;bottom: 0;left: 50%;z-index: -1;}#sk-container-id-2 div.sk-parallel-item {display: flex;flex-direction: column;z-index: 1;position: relative;background-color: white;}#sk-container-id-2 div.sk-parallel-item:first-child::after {align-self: flex-end;width: 50%;}#sk-container-id-2 div.sk-parallel-item:last-child::after {align-self: flex-start;width: 50%;}#sk-container-id-2 div.sk-parallel-item:only-child::after {width: 0;}#sk-container-id-2 div.sk-dashed-wrapped {border: 1px dashed gray;margin: 0 0.4em 0.5em 0.4em;box-sizing: border-box;padding-bottom: 0.4em;background-color: white;}#sk-container-id-2 div.sk-label label {font-family: monospace;font-weight: bold;display: inline-block;line-height: 1.2em;}#sk-container-id-2 div.sk-label-container {text-align: center;}#sk-container-id-2 div.sk-container {/* jupyter's `normalize.less` sets `[hidden] { display: none; }` but bootstrap.min.css set `[hidden] { display: none !important; }` so we also need the `!important` here to be able to override the default hidden behavior on the sphinx rendered scikit-learn.org. See: https://github.com/scikit-learn/scikit-learn/issues/21755 */display: inline-block !important;position: relative;}#sk-container-id-2 div.sk-text-repr-fallback {display: none;}</style><div id=\"sk-container-id-2\" class=\"sk-top-container\"><div class=\"sk-text-repr-fallback\"><pre>RandomForestClassifier(n_estimators=50)</pre><b>In a Jupyter environment, please rerun this cell to show the HTML representation or trust the notebook. <br />On GitHub, the HTML representation is unable to render, please try loading this page with nbviewer.org.</b></div><div class=\"sk-container\" hidden><div class=\"sk-item\"><div class=\"sk-estimator sk-toggleable\"><input class=\"sk-toggleable__control sk-hidden--visually\" id=\"sk-estimator-id-2\" type=\"checkbox\" checked><label for=\"sk-estimator-id-2\" class=\"sk-toggleable__label sk-toggleable__label-arrow\">RandomForestClassifier</label><div class=\"sk-toggleable__content\"><pre>RandomForestClassifier(n_estimators=50)</pre></div></div></div></div></div>"
      ],
      "text/plain": [
       "RandomForestClassifier(n_estimators=50)"
      ]
     },
     "execution_count": 54,
     "metadata": {},
     "output_type": "execute_result"
    }
   ],
   "source": [
    "from sklearn.ensemble import RandomForestClassifier\n",
    "legit_train, legit_test, mal_train, mal_test = train_test_split(data_in_new, labels, test_size=0.2)\n",
    "classif = RandomForestClassifier(n_estimators=50)\n",
    "\n",
    "classif.fit(legit_train,mal_train)"
   ]
  },
  {
   "cell_type": "code",
   "execution_count": 56,
   "id": "903676d6-c34d-4c9a-af76-919e1aef9f77",
   "metadata": {
    "tags": []
   },
   "outputs": [
    {
     "name": "stdout",
     "output_type": "stream",
     "text": [
      "The score of the algorithm:  99.34806229626946\n"
     ]
    }
   ],
   "source": [
    "print(\"The score of the algorithm: \",classif.score(legit_test,mal_test)*100)"
   ]
  },
  {
   "cell_type": "code",
   "execution_count": 60,
   "id": "d0b373cd-992e-4aea-9613-539703e4f82b",
   "metadata": {
    "tags": []
   },
   "outputs": [],
   "source": [
    "from sklearn.metrics import confusion_matrix\n",
    "\n",
    "result = classif.predict(legit_test)\n",
    "conf_mat = confusion_matrix(mal_test,result)"
   ]
  },
  {
   "cell_type": "code",
   "execution_count": 61,
   "id": "0612d28b-ddc0-474f-b615-f407969d13b1",
   "metadata": {
    "tags": []
   },
   "outputs": [
    {
     "data": {
      "text/plain": [
       "(2, 2)"
      ]
     },
     "execution_count": 61,
     "metadata": {},
     "output_type": "execute_result"
    }
   ],
   "source": [
    "conf_mat.shape"
   ]
  },
  {
   "cell_type": "code",
   "execution_count": 62,
   "id": "601e374e-ff12-4dd5-8570-ae35987865fb",
   "metadata": {
    "tags": []
   },
   "outputs": [
    {
     "data": {
      "text/plain": [
       "numpy.ndarray"
      ]
     },
     "execution_count": 62,
     "metadata": {},
     "output_type": "execute_result"
    }
   ],
   "source": [
    "type(conf_mat)"
   ]
  },
  {
   "cell_type": "code",
   "execution_count": 63,
   "id": "d21a29ae-c52f-439e-9b0b-f99c3c557ce2",
   "metadata": {
    "tags": []
   },
   "outputs": [
    {
     "data": {
      "text/plain": [
       "array([[19213,    95],\n",
       "       [   85,  8217]], dtype=int64)"
      ]
     },
     "execution_count": 63,
     "metadata": {},
     "output_type": "execute_result"
    }
   ],
   "source": [
    "conf_mat"
   ]
  },
  {
   "cell_type": "code",
   "execution_count": 67,
   "id": "a6c739bd-17a4-4597-9df3-9dbb9d50604d",
   "metadata": {
    "tags": []
   },
   "outputs": [
    {
     "name": "stdout",
     "output_type": "stream",
     "text": [
      "false_positives:  0.492024031489538\n",
      "false_negatives:  1.0238496747771622\n"
     ]
    }
   ],
   "source": [
    "print(\"false_positives: \",conf_mat[0][1]/sum(conf_mat[0])*100)\n",
    "print(\"false_negatives: \",conf_mat[1][0]/sum(conf_mat[1])*100)"
   ]
  },
  {
   "cell_type": "code",
   "execution_count": 69,
   "id": "a3e5cd15-8c82-4b9a-9ce3-e623c8892023",
   "metadata": {
    "tags": []
   },
   "outputs": [
    {
     "data": {
      "text/html": [
       "<style>#sk-container-id-3 {color: black;background-color: white;}#sk-container-id-3 pre{padding: 0;}#sk-container-id-3 div.sk-toggleable {background-color: white;}#sk-container-id-3 label.sk-toggleable__label {cursor: pointer;display: block;width: 100%;margin-bottom: 0;padding: 0.3em;box-sizing: border-box;text-align: center;}#sk-container-id-3 label.sk-toggleable__label-arrow:before {content: \"▸\";float: left;margin-right: 0.25em;color: #696969;}#sk-container-id-3 label.sk-toggleable__label-arrow:hover:before {color: black;}#sk-container-id-3 div.sk-estimator:hover label.sk-toggleable__label-arrow:before {color: black;}#sk-container-id-3 div.sk-toggleable__content {max-height: 0;max-width: 0;overflow: hidden;text-align: left;background-color: #f0f8ff;}#sk-container-id-3 div.sk-toggleable__content pre {margin: 0.2em;color: black;border-radius: 0.25em;background-color: #f0f8ff;}#sk-container-id-3 input.sk-toggleable__control:checked~div.sk-toggleable__content {max-height: 200px;max-width: 100%;overflow: auto;}#sk-container-id-3 input.sk-toggleable__control:checked~label.sk-toggleable__label-arrow:before {content: \"▾\";}#sk-container-id-3 div.sk-estimator input.sk-toggleable__control:checked~label.sk-toggleable__label {background-color: #d4ebff;}#sk-container-id-3 div.sk-label input.sk-toggleable__control:checked~label.sk-toggleable__label {background-color: #d4ebff;}#sk-container-id-3 input.sk-hidden--visually {border: 0;clip: rect(1px 1px 1px 1px);clip: rect(1px, 1px, 1px, 1px);height: 1px;margin: -1px;overflow: hidden;padding: 0;position: absolute;width: 1px;}#sk-container-id-3 div.sk-estimator {font-family: monospace;background-color: #f0f8ff;border: 1px dotted black;border-radius: 0.25em;box-sizing: border-box;margin-bottom: 0.5em;}#sk-container-id-3 div.sk-estimator:hover {background-color: #d4ebff;}#sk-container-id-3 div.sk-parallel-item::after {content: \"\";width: 100%;border-bottom: 1px solid gray;flex-grow: 1;}#sk-container-id-3 div.sk-label:hover label.sk-toggleable__label {background-color: #d4ebff;}#sk-container-id-3 div.sk-serial::before {content: \"\";position: absolute;border-left: 1px solid gray;box-sizing: border-box;top: 0;bottom: 0;left: 50%;z-index: 0;}#sk-container-id-3 div.sk-serial {display: flex;flex-direction: column;align-items: center;background-color: white;padding-right: 0.2em;padding-left: 0.2em;position: relative;}#sk-container-id-3 div.sk-item {position: relative;z-index: 1;}#sk-container-id-3 div.sk-parallel {display: flex;align-items: stretch;justify-content: center;background-color: white;position: relative;}#sk-container-id-3 div.sk-item::before, #sk-container-id-3 div.sk-parallel-item::before {content: \"\";position: absolute;border-left: 1px solid gray;box-sizing: border-box;top: 0;bottom: 0;left: 50%;z-index: -1;}#sk-container-id-3 div.sk-parallel-item {display: flex;flex-direction: column;z-index: 1;position: relative;background-color: white;}#sk-container-id-3 div.sk-parallel-item:first-child::after {align-self: flex-end;width: 50%;}#sk-container-id-3 div.sk-parallel-item:last-child::after {align-self: flex-start;width: 50%;}#sk-container-id-3 div.sk-parallel-item:only-child::after {width: 0;}#sk-container-id-3 div.sk-dashed-wrapped {border: 1px dashed gray;margin: 0 0.4em 0.5em 0.4em;box-sizing: border-box;padding-bottom: 0.4em;background-color: white;}#sk-container-id-3 div.sk-label label {font-family: monospace;font-weight: bold;display: inline-block;line-height: 1.2em;}#sk-container-id-3 div.sk-label-container {text-align: center;}#sk-container-id-3 div.sk-container {/* jupyter's `normalize.less` sets `[hidden] { display: none; }` but bootstrap.min.css set `[hidden] { display: none !important; }` so we also need the `!important` here to be able to override the default hidden behavior on the sphinx rendered scikit-learn.org. See: https://github.com/scikit-learn/scikit-learn/issues/21755 */display: inline-block !important;position: relative;}#sk-container-id-3 div.sk-text-repr-fallback {display: none;}</style><div id=\"sk-container-id-3\" class=\"sk-top-container\"><div class=\"sk-text-repr-fallback\"><pre>GradientBoostingClassifier(n_estimators=50)</pre><b>In a Jupyter environment, please rerun this cell to show the HTML representation or trust the notebook. <br />On GitHub, the HTML representation is unable to render, please try loading this page with nbviewer.org.</b></div><div class=\"sk-container\" hidden><div class=\"sk-item\"><div class=\"sk-estimator sk-toggleable\"><input class=\"sk-toggleable__control sk-hidden--visually\" id=\"sk-estimator-id-3\" type=\"checkbox\" checked><label for=\"sk-estimator-id-3\" class=\"sk-toggleable__label sk-toggleable__label-arrow\">GradientBoostingClassifier</label><div class=\"sk-toggleable__content\"><pre>GradientBoostingClassifier(n_estimators=50)</pre></div></div></div></div></div>"
      ],
      "text/plain": [
       "GradientBoostingClassifier(n_estimators=50)"
      ]
     },
     "execution_count": 69,
     "metadata": {},
     "output_type": "execute_result"
    }
   ],
   "source": [
    "from sklearn.ensemble import GradientBoostingClassifier\n",
    "\n",
    "grad_boost =GradientBoostingClassifier(n_estimators=50)\n",
    "grad_boost.fit(legit_train,mal_train)"
   ]
  },
  {
   "cell_type": "code",
   "execution_count": 70,
   "id": "e7f10618-2d58-4624-b9fe-fb99fc657704",
   "metadata": {
    "tags": []
   },
   "outputs": [
    {
     "name": "stdout",
     "output_type": "stream",
     "text": [
      "The score of the Gradient Boosting Classifier is:  98.79029337196667\n"
     ]
    }
   ],
   "source": [
    "print(\"The score of the Gradient Boosting Classifier is: \",grad_boost.score(legit_test,mal_test)*100)"
   ]
  },
  {
   "cell_type": "code",
   "execution_count": null,
   "id": "cb9faacb-c1be-43f5-93e9-a83a3581cd4a",
   "metadata": {},
   "outputs": [],
   "source": []
  }
 ],
 "metadata": {
  "kernelspec": {
   "display_name": "Python 3 (ipykernel)",
   "language": "python",
   "name": "python3"
  },
  "language_info": {
   "codemirror_mode": {
    "name": "ipython",
    "version": 3
   },
   "file_extension": ".py",
   "mimetype": "text/x-python",
   "name": "python",
   "nbconvert_exporter": "python",
   "pygments_lexer": "ipython3",
   "version": "3.11.1"
  }
 },
 "nbformat": 4,
 "nbformat_minor": 5
}
